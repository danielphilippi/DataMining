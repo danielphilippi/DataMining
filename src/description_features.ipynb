{
 "cells": [
  {
   "cell_type": "code",
   "execution_count": null,
   "metadata": {},
   "outputs": [],
   "source": [
    "import re\n",
    "import datetime\n",
    "import random\n",
    "import numpy as np\n",
    "import pandas as pd\n",
    "import matplotlib.colors as colors\n",
    "import matplotlib.pyplot as plt\n",
    "import seaborn as sns\n",
    "import sklearn.preprocessing as prep\n",
    "from datetime import date, timedelta , datetime\n",
    "import math\n",
    "import os \n",
    "from sklearn.preprocessing import OneHotEncoder \n",
    "import pickle\n",
    "from datetime import datetime"
   ]
  },
  {
   "cell_type": "code",
   "execution_count": null,
   "metadata": {},
   "outputs": [],
   "source": [
    "computed_data_path = 'computed_data/'\n",
    "\n",
    "if not os.path.exists(computed_data_path): \n",
    "    os.makedirs(computed_data_path)"
   ]
  },
  {
   "cell_type": "code",
   "execution_count": null,
   "metadata": {},
   "outputs": [],
   "source": [
    "data_original  = pd.read_csv('data/donors.csv')\n",
    "computed_data_path = 'computed_data/'\n",
    "data = data_original.copy()\n",
    "\n",
    "data = data.rename(columns={'Unnamed: 0': 'ID'})\n",
    "data.set_index('ID', inplace=True)"
   ]
  },
  {
   "cell_type": "code",
   "execution_count": null,
   "metadata": {},
   "outputs": [],
   "source": [
    "#description = ['ODATEDW' , 'OSOURCE' , 'TCODE' , 'STATE' , 'ZIP' , 'MAILCODE' , 'PVASTATE' , 'DOB' , 'NOEXCH' , 'RECINHSE' , 'RECP3' , 'RECPGVG' , 'RECSWEEP','MDMAUD' , 'DOMAIN' , 'HOMEOWNR' , 'CHILD03' , 'CHILD07' , 'CHILD12' , 'CHILD18' , 'NUMCHLD' , 'INCOME' , 'GENDER' , 'WEALTH1' , 'HIT' ,'MBCRAFT' , 'MBGARDEN' , 'MBBOOKS' , 'MBCOLECT' , 'MAGFAML' , 'MAGFEM' , 'MAGMALE' , 'PUBGARDN' , 'PUBCULIN' , 'PUBHLTH' , 'PUBDOITY' ,'PUBNEWFN' , 'PUBPHOTO', 'PUBOPP' ,'DATASRCE' , 'MALEMILI' , 'MALEVET' , 'VIETVETS' , 'WWIIVETS' , 'LOCALGOV' , 'STATEGOV' , 'FEDGOV' , 'SOLP3' ,'SOLIH' , 'MAJOR' , 'WEALTH2' , 'GEOCODE' , 'COLLECT1' , 'VETERANS' , 'BIBLE', 'CATLG' , 'HOMEE' , 'PETS', 'CDPLAY' , 'STEREO' , 'PCOWNERS' , 'PHOTO' , 'CRAFTS' , 'FISHER' , 'GARDENIN' , 'BOATS' , 'WALKER' , 'KIDSTUFF' , 'CARDS' , 'PLATES' , 'LIFESRC' , 'PEPSTRFL']\n",
    "numeric_features = ['NUMCHLD','INCOME' , 'WEALTH1' , 'MBCRAFT' , 'MBGARDEN' , 'MBBOOKS' , 'MBCOLECT' ,\n",
    "                    'MAGFAML' , 'MAGFEM' , 'MAGMALE' , 'PUBGARDN' , 'PUBCULIN' , 'PUBHLTH' , 'PUBDOITY' , 'PUBNEWFN' , 'PUBOPP' , 'WEALTH2' ]\n",
    "boolean_features = [ 'PEPSTRFL', 'MAILCODE', 'PVASTATE', 'RECINHSE', 'RECP3', 'RECPGVG', 'RECSWEEP', 'MAJOR']\n",
    "donors_interests = ['COLLECT1','VETERANS' , 'BIBLE' , 'CATLG' , 'HOMEE' , 'PETS' , 'CDPLAY','STEREO' , 'PCOWNERS' , 'PHOTO' , 'CRAFTS' , 'FISHER' , 'GARDENIN' , 'BOATS' , 'WALKER' , 'KIDSTUFF' , 'CARDS'  , 'PLATES']"
   ]
  },
  {
   "cell_type": "code",
   "execution_count": null,
   "metadata": {},
   "outputs": [],
   "source": [
    "#Number of missing values in each feature\n",
    "sns.set()\n",
    "\n",
    "#figure and axis\n",
    "fig, (ax1) = plt.subplots(1, figsize=(20,6))\n",
    "\n",
    "#data\n",
    "ax1_data=data[numeric_features].isna().sum().sort_values(ascending=False)\n",
    "ax1.bar(x=ax1_data.index, height=ax1_data)\n",
    "ax1.set_title(\"Missing Values per Variable\", fontsize=20)\n",
    "ax1.set_ylabel(\"Total Missing Values\")\n",
    "ax1.spines['right'].set_visible(False)\n",
    "ax1.spines['top'].set_visible(False)\n",
    "\n",
    "for tick in ax1.get_xticklabels():\n",
    "    tick.set_rotation(-55)\n",
    "    \n",
    "plt.show()"
   ]
  },
  {
   "cell_type": "markdown",
   "metadata": {},
   "source": [
    "# CHECK INCOHERENCES"
   ]
  },
  {
   "cell_type": "markdown",
   "metadata": {},
   "source": [
    "DONATION DATES BEFORE DONOR WAS BORN"
   ]
  },
  {
   "cell_type": "code",
   "execution_count": null,
   "metadata": {},
   "outputs": [],
   "source": [
    "data.loc[( pd.to_datetime(data.DOB) ) > ( pd.to_datetime(data.ODATEDW) )][['DOB','ODATEDW']]"
   ]
  },
  {
   "cell_type": "markdown",
   "metadata": {},
   "source": [
    "DONOR WITH LESS THAN 14 (MINIMUM AGE TO WORK IN THE US) "
   ]
  },
  {
   "cell_type": "code",
   "execution_count": null,
   "metadata": {},
   "outputs": [],
   "source": [
    "data.loc[ (pd.to_datetime(data.DOB).dt.year > 2006 )]"
   ]
  },
  {
   "cell_type": "markdown",
   "metadata": {},
   "source": [
    "DONORS WITH LESS THAN 14 WHICH ARE HOMEOWNERS"
   ]
  },
  {
   "cell_type": "code",
   "execution_count": null,
   "metadata": {},
   "outputs": [],
   "source": [
    "data.loc[ (pd.to_datetime(data.DOB).dt.year > 2006 ) & (data.HOMEOWNR == 'H' ) ][['DOB','HOMEOWNR']]"
   ]
  },
  {
   "cell_type": "markdown",
   "metadata": {},
   "source": [
    "DONORS WITH LESS THAN 14 WHICH RECEIVE AN INCOME (14 IS THE MINIMUM AGE TO WORK IN THE US )"
   ]
  },
  {
   "cell_type": "code",
   "execution_count": null,
   "metadata": {},
   "outputs": [],
   "source": [
    "data.loc[ (pd.to_datetime(data.DOB).dt.year > 2006 ) & (data.INCOME > 1 ) ][['DOB','INCOME']]"
   ]
  },
  {
   "cell_type": "markdown",
   "metadata": {},
   "source": [
    "CHECK FOR SITUATIONS WHERE THE NUMBER OF CHILDRENS DECLARED ON COLUMNS 'CHILD03' , 'CHILD07' , 'CHILD12' AND 'CHILD18' IS BIGGER THAN THE CHILDREN DECLARED ON NUMCHLD"
   ]
  },
  {
   "cell_type": "code",
   "execution_count": null,
   "metadata": {},
   "outputs": [],
   "source": [
    "def checkChildrenInconsistencies(x):  \n",
    "    numberOfChildren = 0\n",
    "    colsToCheck = ['CHILD03' , 'CHILD07' , 'CHILD12' , 'CHILD18' ]\n",
    "    for i in colsToCheck:\n",
    "        if (x[i] == 'B'):\n",
    "            numberOfChildren = numberOfChildren + 2\n",
    "        elif (x[i] == 'M' or x[i] == 'F'):\n",
    "            numberOfChildren = numberOfChildren + 1\n",
    "            \n",
    "    return numberOfChildren\n",
    "  \n",
    "    \n",
    "data['MINIMUM_POSSIBLE_CHILD'] = data.apply(lambda x: checkChildrenInconsistencies(x) , axis=1)\n",
    "data.loc[ data.MINIMUM_POSSIBLE_CHILD > data.NUMCHLD][['CHILD03' , 'CHILD07' , 'CHILD12' , 'CHILD18', 'NUMCHLD' , 'MINIMUM_POSSIBLE_CHILD'  ]]"
   ]
  },
  {
   "cell_type": "code",
   "execution_count": null,
   "metadata": {},
   "outputs": [],
   "source": [
    "del data['MINIMUM_POSSIBLE_CHILD']\n",
    "numeric_features.remove('NUMCHLD')"
   ]
  },
  {
   "cell_type": "code",
   "execution_count": null,
   "metadata": {},
   "outputs": [],
   "source": [
    "# NOEXCH values not documented , only possible values are \" \" and \"X\"\n",
    "sns.set()\n",
    "sns.countplot(x=\"NOEXCH\", data=data)\n",
    "plt.suptitle(\"NOEXCH Frequencies\")\n",
    "plt.show()"
   ]
  },
  {
   "cell_type": "markdown",
   "metadata": {},
   "source": [
    "# DATA PREPARATION"
   ]
  },
  {
   "cell_type": "markdown",
   "metadata": {},
   "source": [
    "#### CARDINALITY REDUCTION "
   ]
  },
  {
   "cell_type": "code",
   "execution_count": null,
   "metadata": {},
   "outputs": [],
   "source": [
    "# GENDER\n",
    "plt.title(\"Gender Distribution\")\n",
    "sns.countplot(x = 'GENDER',\n",
    "              data = data , order = data.GENDER.value_counts().index )\n",
    "plt.show()\n"
   ]
  },
  {
   "cell_type": "code",
   "execution_count": null,
   "metadata": {},
   "outputs": [],
   "source": [
    "data.GENDER = data.GENDER.apply(lambda x: 'M' if x == 'M' else 'F' if x == 'F' else 'O' )"
   ]
  },
  {
   "cell_type": "markdown",
   "metadata": {},
   "source": [
    "#### FEATURE ENGINEERING"
   ]
  },
  {
   "cell_type": "markdown",
   "metadata": {},
   "source": [
    "AS COLUMN DOMAIN HAS SPECIFIC VALUE FOR EACH CHARACTER, WE WILL SPLIT IN TWO COLUMNS AND RESCALE THE SECOND INTO A UNIFORM SCALE WITHOUT THE PECULIARITIES FOR THE URBAN COMMUNITIES"
   ]
  },
  {
   "cell_type": "code",
   "execution_count": null,
   "metadata": {},
   "outputs": [],
   "source": [
    "#DOMAIN\n",
    "data['DOMAIN_1'] = data.DOMAIN.astype(str).str[0]\n",
    "data['DOMAIN_2'] = data.DOMAIN.astype(str).str[1]\n",
    "\n",
    "data['DOMAIN_2'] = ['5' if b == '4' or (b == '3' and a != 'U' ) else b for a,b in zip(data['DOMAIN_1'] , data['DOMAIN_2'] ) ]\n",
    "data['DOMAIN_2'] = ['4' if a == 'U' and b == '3' else b for a, b in zip(data['DOMAIN_1'] , data['DOMAIN_2'] ) ]\n",
    "data['DOMAIN_2'] = ['3' if b == '2' and a != 'U' else b for a, b in zip(data['DOMAIN_1'] , data['DOMAIN_2'] ) ]\n",
    "\n",
    "data['DOMAIN_2'] = pd.to_numeric(data['DOMAIN_2'], errors='coerce')\n",
    "numeric_features.append('DOMAIN_2')"
   ]
  },
  {
   "cell_type": "markdown",
   "metadata": {},
   "source": [
    "CREATE COLUMN AGE BASED ON 'DOB'"
   ]
  },
  {
   "cell_type": "code",
   "execution_count": null,
   "metadata": {},
   "outputs": [],
   "source": [
    "#We assumed the current date as 2020/12/31\n",
    "import datetime\n",
    "\n",
    "x = datetime.date(2020, 12, 31)\n",
    "\n",
    "def findAge(dob ):\n",
    "    if str(dob) == \"NaT\" :\n",
    "        return np.nan\n",
    "    else :\n",
    "        age = (x - dob.date() ) // timedelta(days=365.2425)\n",
    "        return age    \n",
    "    \n",
    "    \n",
    "\n",
    "data['DOB'] = pd.to_datetime(data.DOB)\n",
    "data['AGE'] = data.apply(lambda x: findAge(x.DOB ), axis=1)\n",
    "numeric_features.append('AGE')"
   ]
  },
  {
   "cell_type": "markdown",
   "metadata": {},
   "source": [
    "CREATE COLUMN YEARS_SINCE_FIRST_DONATION BASED ON 'DATEDW'"
   ]
  },
  {
   "cell_type": "code",
   "execution_count": null,
   "metadata": {},
   "outputs": [],
   "source": [
    "from datetime import datetime\n",
    "\n",
    "def yearsSinceFirstDonor(odatedw):\n",
    "    date_transform = datetime.strptime(odatedw, '%Y-%m-%d').date()\n",
    "    years = (x - date_transform ) // timedelta(days=365.2425)\n",
    "    return years   \n",
    "    \n",
    "    \n",
    "data['YEARS_SINCE_FIRST_DONATION'] = data.apply(lambda x: yearsSinceFirstDonor(x.ODATEDW), axis=1)\n",
    "numeric_features.append('YEARS_SINCE_FIRST_DONATION')"
   ]
  },
  {
   "cell_type": "code",
   "execution_count": null,
   "metadata": {},
   "outputs": [],
   "source": [
    "plt.title(\"YEARS_SINCE_FIRST_DONATION Distribution\")\n",
    "sns.countplot(x = 'YEARS_SINCE_FIRST_DONATION',\n",
    "              data = data , order = data.YEARS_SINCE_FIRST_DONATION.value_counts().index )\n",
    "plt.show()"
   ]
  },
  {
   "cell_type": "markdown",
   "metadata": {},
   "source": [
    "#### BINARY TRANSFORMATION"
   ]
  },
  {
   "cell_type": "code",
   "execution_count": null,
   "metadata": {},
   "outputs": [],
   "source": [
    "for col_name in donors_interests:\n",
    "    data[col_name] = data[col_name].apply(lambda x: 1 if x == 'Y' else 0)\n",
    "    data[col_name] = data[col_name].astype(str).astype(int)\n",
    "    \n",
    "data.PVASTATE = data.PVASTATE.apply(lambda x: 1 if x == 'P' else 1 if x == 'E' else 0 )\n",
    "\n",
    "x_or_u = ['RECINHSE', 'RECP3' , 'RECPGVG' , 'RECSWEEP' , 'MAJOR' , 'PEPSTRFL' ]\n",
    "for i in x_or_u:\n",
    "    data[i] = data[i].apply(lambda x: 1 if x == 'X' else 0 )\n",
    "    \n",
    "data.MAILCODE = data.MAILCODE.apply(lambda x: 1 if x == 'B' else 0 )\n",
    "data.PVASTATE = data.PVASTATE.apply(lambda x: 1 if x == 'P' else 1 if x == 'E' else 0 )"
   ]
  },
  {
   "cell_type": "markdown",
   "metadata": {},
   "source": [
    "#### CHANGING EMPTY CLASSES (' ') VALUES "
   ]
  },
  {
   "cell_type": "code",
   "execution_count": null,
   "metadata": {},
   "outputs": [],
   "source": [
    "data.LIFESRC = data.LIFESRC.apply(lambda x: '1' if x == '1' else '2' if x == '2' else '3' if x == '3' else '0' )\n",
    "data.DATASRCE = data.DATASRCE.apply(lambda x: '1' if x == '1' else '2' if x == '2' else '3' if x == '3' else '0' )\n",
    "data.SOLIH = data.SOLIH.apply(lambda x: '13' if x == ' ' else x )\n",
    "data.SOLIH = data.SOLIH.astype(str).astype(int)\n",
    "numeric_features.append('SOLIH')\n",
    "data.SOLP3 = data.SOLP3.apply(lambda x: '13' if x == ' ' else x )\n",
    "data.SOLP3 = data.SOLP3.astype(str).astype(int)\n",
    "numeric_features.append('SOLP3')\n",
    "data.HOMEOWNR = data.HOMEOWNR.apply(lambda x: 'H' if x == 'H' else 'U' if x == 'U' else 'O' )"
   ]
  },
  {
   "cell_type": "markdown",
   "metadata": {},
   "source": [
    "#### ONE HOT ENCODE "
   ]
  },
  {
   "cell_type": "code",
   "execution_count": null,
   "metadata": {},
   "outputs": [],
   "source": [
    "data_ohc = data.copy()\n",
    "to_encode = [ 'GENDER'  , 'DOMAIN_1' , 'DATASRCE' , 'LIFESRC' , 'HOMEOWNR']\n",
    "\n",
    "ohc = OneHotEncoder(sparse=False, drop=\"first\")\n",
    "ohc_feat = ohc.fit_transform(data_ohc[to_encode])\n",
    "ohc_feat_names = ohc.get_feature_names()\n",
    "ohc_df = pd.DataFrame(ohc_feat, index=data_ohc.index, columns=ohc_feat_names) \n",
    "ohc_df\n",
    "\n",
    "#GENDER ->  x0_M ; x0_O\n",
    "#DOMAIN_1 -> x1_C ; x1_R ; x1_S ;  x1_T ; x1_U\n",
    "#DATASRCE -> x2_1 ; x2_2 ; x2_3\n",
    "#LIFESRC -> x3_1 ; x3_2 ; x3_3\n",
    "#HOMEOWNR -> x4_O ; x4_U\n",
    "\n",
    "data_ohc = pd.concat([data_ohc.drop(columns=to_encode), ohc_df], axis=1)\n",
    "data = data_ohc\n",
    "\n",
    "data = data.rename(columns={'x0_M':'GENDER_M', 'x0_O':'GENDER_O', 'x1_C':'DOMAIN_1_C', 'x1_R':'DOMAIN_1_R', 'x1_S':'DOMAIN_1_S' , 'x1_T':'DOMAIN_1_T', 'x1_U':'DOMAIN_1_U', 'x2_1':'DATASRCE_1',\n",
    "                  'x2_2':'DATASRCE_2', 'x2_3':'DATASRCE_3', 'x3_1':'LIFESRC_1', 'x3_2':'LIFESRC_2', 'x3_3':'LIFESRC_3' , 'x4_O':'HOMEOWNR_O', 'x4_U':'HOMEOWNR_U'})\n",
    "\n",
    "\n",
    "new_col_names = ['GENDER_M' , 'GENDER_O' , 'DOMAIN_1_C' , 'DOMAIN_1_R' , 'DOMAIN_1_S', 'DOMAIN_1_T' , 'DOMAIN_1_U' , 'DATASRCE_1', 'DATASRCE_2' , 'DATASRCE_3' , 'LIFESRC_1', 'LIFESRC_2','LIFESRC_3' , 'HOMEOWNR_O' , 'HOMEOWNR_U']\n",
    "\n",
    "boolean_features = [ 'PEPSTRFL', 'MAILCODE', 'PVASTATE', 'RECINHSE', 'RECP3', 'RECPGVG', 'RECSWEEP', 'MAJOR']\n",
    "\n",
    "\n",
    "description = numeric_features + new_col_names + boolean_features + donors_interests"
   ]
  },
  {
   "cell_type": "code",
   "execution_count": null,
   "metadata": {},
   "outputs": [],
   "source": [
    "with open(os.path.join(computed_data_path, 'description_features.pickle'), 'wb') as f:\n",
    "       pickle.dump(data[description], f)"
   ]
  }
 ],
 "metadata": {
  "kernelspec": {
   "display_name": "Python 3",
   "language": "python",
   "name": "python3"
  },
  "language_info": {
   "codemirror_mode": {
    "name": "ipython",
    "version": 3
   },
   "file_extension": ".py",
   "mimetype": "text/x-python",
   "name": "python",
   "nbconvert_exporter": "python",
   "pygments_lexer": "ipython3",
   "version": "3.8.3"
  }
 },
 "nbformat": 4,
 "nbformat_minor": 4
}
