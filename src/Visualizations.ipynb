{
 "cells": [
  {
   "cell_type": "code",
   "execution_count": null,
   "metadata": {},
   "outputs": [],
   "source": [
    "#pip install plotly\n",
    "\n",
    "import re\n",
    "import datetime\n",
    "import random\n",
    "import numpy as np\n",
    "import pandas as pd\n",
    "import matplotlib.colors as colors\n",
    "import matplotlib.pyplot as plt\n",
    "import seaborn as sns\n",
    "import sklearn.preprocessing as prep\n",
    "from datetime import date, timedelta , datetime\n",
    "import math\n",
    "import os \n",
    "from sklearn.preprocessing import OneHotEncoder \n",
    "import pickle\n",
    "from datetime import datetime\n",
    "import plotly.graph_objects as go\n"
   ]
  },
  {
   "cell_type": "code",
   "execution_count": null,
   "metadata": {},
   "outputs": [],
   "source": [
    "data_original  = pd.read_csv('data/donors.csv' , low_memory=False)\n",
    "states  = pd.read_csv('data/usa_states.csv' , sep=';')\n",
    "\n",
    "data = data_original.copy()\n",
    "\n",
    "data = data.rename(columns={'Unnamed: 0': 'ID'})\n",
    "data.set_index('ID', inplace=True)"
   ]
  },
  {
   "cell_type": "code",
   "execution_count": null,
   "metadata": {},
   "outputs": [],
   "source": [
    "#GENERATE RANDOM CLUSTERS FOR TESTING PURPOSE\n",
    "data['CLUSTER'] = np.random.randint(0,5, size=len(data))\n"
   ]
  },
  {
   "cell_type": "code",
   "execution_count": null,
   "metadata": {},
   "outputs": [],
   "source": [
    "geo = pd.DataFrame(data.groupby(['STATE','CLUSTER']).size().to_frame('SIZE') )\n",
    "geo = geo.reset_index()"
   ]
  },
  {
   "cell_type": "code",
   "execution_count": null,
   "metadata": {},
   "outputs": [],
   "source": [
    "geographic_info = pd.merge(geo, states, left_on='STATE', right_on='state')\n",
    "geographic_info = geographic_info.drop(columns=['state'])\n",
    "geographic_info"
   ]
  },
  {
   "cell_type": "code",
   "execution_count": null,
   "metadata": {},
   "outputs": [],
   "source": [
    "# JUST TO SEE A DIFFERENCE BETWEEN CLUSTERS\n",
    "geographic_info.loc[ (geographic_info.STATE == 'CA') & (geographic_info.CLUSTER == 1), 'SIZE'] = 60000"
   ]
  },
  {
   "cell_type": "code",
   "execution_count": null,
   "metadata": {},
   "outputs": [],
   "source": [
    "\n",
    "limits = geographic_info.CLUSTER.unique().tolist()\n",
    "# 5 COLORS FOR THIS SITUATION WHEN WE ONLY HAVE 5 CLUSTERS\n",
    "colors = [\"royalblue\",\"crimson\",\"lightseagreen\",\"orange\",\"lightgrey\"]\n",
    "cities = []\n",
    "scale = 4\n",
    "\n",
    "fig = go.Figure()\n",
    "increaser = 0\n",
    "\n",
    "for i in limits:    \n",
    "    lim = limits[i]\n",
    "    df_sub = geographic_info.loc[(geographic_info.CLUSTER == lim)]\n",
    "    fig.add_trace(go.Scattergeo(\n",
    "        locationmode = 'USA-states',\n",
    "        lon = df_sub['longitude'] + increaser,\n",
    "        lat = df_sub['latitude'] ,\n",
    "        text = df_sub[[ \"name\", 'SIZE']],\n",
    "        marker = dict(\n",
    "            size = df_sub['SIZE']/scale,\n",
    "            color = colors[i],\n",
    "            line_color='rgb(40,40,40)',\n",
    "            line_width=0.5,\n",
    "            sizemode = 'area'\n",
    "        ),\n",
    "        name = 'Cluster - {0} '.format(lim)))\n",
    "    increaser = increaser + 0.4\n",
    "    \n",
    "fig.update_layout(\n",
    "        title_text = 'Cluster Distribution per State',\n",
    "        showlegend = True,\n",
    "        geo = dict(\n",
    "            scope = 'usa',\n",
    "            landcolor = 'rgb(217, 217, 217)',\n",
    "        )\n",
    "    )\n",
    "\n",
    "fig.show()"
   ]
  }
 ],
 "metadata": {
  "kernelspec": {
   "display_name": "Python 3",
   "language": "python",
   "name": "python3"
  },
  "language_info": {
   "codemirror_mode": {
    "name": "ipython",
    "version": 3
   },
   "file_extension": ".py",
   "mimetype": "text/x-python",
   "name": "python",
   "nbconvert_exporter": "python",
   "pygments_lexer": "ipython3",
   "version": "3.8.3"
  }
 },
 "nbformat": 4,
 "nbformat_minor": 4
}
